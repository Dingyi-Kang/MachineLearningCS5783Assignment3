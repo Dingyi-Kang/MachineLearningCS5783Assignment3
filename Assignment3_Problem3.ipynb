{
  "nbformat": 4,
  "nbformat_minor": 0,
  "metadata": {
    "colab": {
      "provenance": [],
      "collapsed_sections": []
    },
    "kernelspec": {
      "name": "python3",
      "display_name": "Python 3"
    },
    "language_info": {
      "name": "python"
    }
  },
  "cells": [
    {
      "cell_type": "code",
      "execution_count": null,
      "metadata": {
        "id": "tlGtqrXL45xB"
      },
      "outputs": [],
      "source": [
        "## Dingyi Kang\n",
        "## A20308046\n",
        "## Assignment3 - problem 3\n",
        "\n",
        "import numpy as np"
      ]
    },
    {
      "cell_type": "code",
      "source": [
        "X = np.array([[7, 5, 0, 0, 3, 2],[6, 4, 5, 1, 4, 8],[9, 0, 2, 2, 5, 4],[6, 3, 4, 7, 9, 8],[5, 7, 5, 6, 9, 0],[7, 9, 0, 8, 2, 3]])\n",
        "X.shape"
      ],
      "metadata": {
        "colab": {
          "base_uri": "https://localhost:8080/"
        },
        "id": "ZZE2gzfG5CDp",
        "outputId": "903054c2-a395-4e62-dc6f-3eeadd97ecb7"
      },
      "execution_count": null,
      "outputs": [
        {
          "output_type": "execute_result",
          "data": {
            "text/plain": [
              "(6, 6)"
            ]
          },
          "metadata": {},
          "execution_count": 2
        }
      ]
    },
    {
      "cell_type": "code",
      "source": [
        "f = np.array([[1, 0, -1],[2, 0, -2],[1, 0, -1]])\n",
        "f.shape"
      ],
      "metadata": {
        "colab": {
          "base_uri": "https://localhost:8080/"
        },
        "id": "svguuE66B92-",
        "outputId": "9dff61be-8b5b-4d96-f939-4753405c658c"
      },
      "execution_count": null,
      "outputs": [
        {
          "output_type": "execute_result",
          "data": {
            "text/plain": [
              "(3, 3)"
            ]
          },
          "metadata": {},
          "execution_count": 3
        }
      ]
    },
    {
      "cell_type": "markdown",
      "source": [
        "Answer to question 1:\n",
        "The dimension of the input is 6 x 6 x 1. \n",
        "The dimension of the kernel is 3 x 3 x 1\n",
        "\n",
        "There are 10 parameters in the kernel f. \n",
        "Namely, (3 * 3 * 1 + 1)*1 = 10"
      ],
      "metadata": {
        "id": "zFoqqeoi5D0G"
      }
    },
    {
      "cell_type": "code",
      "source": [
        "# with stride of 1 by default, without padding\n",
        "def convol(input, filter):\n",
        "  # initialize a 4x4 array to store the computed values of activation map\n",
        "  arr = np.zeros((4, 4))\n",
        "  for r in range(4):\n",
        "    for c in range(4):\n",
        "      #get the 3 by 3 submatrix of the input which is center around one of the element in the center 4 by 4 submatrix of the input. The index of the center element of this current submatrix is at rth row and cth column.\n",
        "      t = input[r:r+3,c:c+3]\n",
        "      # do the inner product between this submatrix with filter\n",
        "      ip = np.inner(t, filter)\n",
        "      # the sum of the values of the main diagonal element in the output matrix is the target value of convoltion operation\n",
        "      arr[r][c] = ip[0][0] + ip[1][1] + ip[2][2]\n",
        "  return arr"
      ],
      "metadata": {
        "id": "7TyhW7pRCN0k"
      },
      "execution_count": null,
      "outputs": []
    },
    {
      "cell_type": "code",
      "source": [
        "activationMap = convol(X, f)\n",
        "print(activationMap)"
      ],
      "metadata": {
        "colab": {
          "base_uri": "https://localhost:8080/"
        },
        "id": "u8XtKvWkEjjU",
        "outputId": "90cdc919-fd75-4236-bc2b-93c070015709"
      },
      "execution_count": null,
      "outputs": [
        {
          "output_type": "stream",
          "name": "stdout",
          "text": [
            "[[ 16.   9.  -4. -18.]\n",
            " [ 17.  -5. -10. -12.]\n",
            " [ 11.  -9. -17.   2.]\n",
            " [  9.  -1. -15.  16.]]\n"
          ]
        }
      ]
    },
    {
      "cell_type": "markdown",
      "source": [
        "Answer to question 2: the output activation map of applying the convolutional operation using the filter f on the input X without padding is shown as above"
      ],
      "metadata": {
        "id": "PEqNnrhBNLwa"
      }
    },
    {
      "cell_type": "code",
      "source": [
        "# 2x2 filter with stride of 2\n",
        "def maxPool(input):\n",
        "  # initialize a 2x2 array to store the computed values\n",
        "  arr = np.zeros((2, 2))\n",
        "  for r in range(2):\n",
        "    for c in range(2):\n",
        "      # increment index of row and column by 2 instead of 1\n",
        "      if c == 1:\n",
        "        j = c + 1\n",
        "      else:\n",
        "        j = c\n",
        "      if r == 1:\n",
        "        i = r + 1\n",
        "      else:\n",
        "        i = r\n",
        "      #get the 2 by 2 target submatrix of the input\n",
        "      t = input[i:i+2,j:j+2]\n",
        "      #get maximum value from the matrix and assign to our target return array\n",
        "      arr[r][c] = t.max()\n",
        "  return arr"
      ],
      "metadata": {
        "id": "vUpny9P_PGv7"
      },
      "execution_count": null,
      "outputs": []
    },
    {
      "cell_type": "code",
      "source": [
        "output = maxPool(activationMap)\n",
        "print(output)"
      ],
      "metadata": {
        "colab": {
          "base_uri": "https://localhost:8080/"
        },
        "id": "gXuJL7cKRLB0",
        "outputId": "2295eb0e-1f54-4145-8ff8-7fd261d36379"
      },
      "execution_count": null,
      "outputs": [
        {
          "output_type": "stream",
          "name": "stdout",
          "text": [
            "[[17. -4.]\n",
            " [11. 16.]]\n"
          ]
        }
      ]
    },
    {
      "cell_type": "markdown",
      "source": [
        "Answer to question 3: the output matrix of applying a max-pooling operation on the output from the previous question is shown as above"
      ],
      "metadata": {
        "id": "Lioju4E8SyoS"
      }
    }
  ]
}